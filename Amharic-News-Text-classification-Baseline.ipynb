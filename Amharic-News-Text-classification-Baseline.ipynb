{
 "cells": [
  {
   "cell_type": "code",
   "execution_count": 68,
   "metadata": {},
   "outputs": [],
   "source": [
    "%matplotlib inline\n",
    "\n",
    "import matplotlib.pyplot as plt\n",
    "import pandas as pd\n",
    "import numpy as np\n",
    "from sklearn.utils import shuffle\n",
    "from sklearn.pipeline import Pipeline\n",
    "from sklearn.feature_extraction.text import TfidfTransformer, CountVectorizer\n",
    "\n",
    "import warnings\n",
    "warnings.filterwarnings('ignore')\n",
    "\n",
    "np.random.seed(42) "
   ]
  },
  {
   "cell_type": "markdown",
   "metadata": {},
   "source": [
    "# Exploratory Data Analysis"
   ]
  },
  {
   "cell_type": "code",
   "execution_count": 56,
   "metadata": {},
   "outputs": [
    {
     "data": {
      "text/html": [
       "<div>\n",
       "<style scoped>\n",
       "    .dataframe tbody tr th:only-of-type {\n",
       "        vertical-align: middle;\n",
       "    }\n",
       "\n",
       "    .dataframe tbody tr th {\n",
       "        vertical-align: top;\n",
       "    }\n",
       "\n",
       "    .dataframe thead th {\n",
       "        text-align: right;\n",
       "    }\n",
       "</style>\n",
       "<table border=\"1\" class=\"dataframe\">\n",
       "  <thead>\n",
       "    <tr style=\"text-align: right;\">\n",
       "      <th></th>\n",
       "      <th>headline</th>\n",
       "      <th>category</th>\n",
       "      <th>date</th>\n",
       "      <th>views</th>\n",
       "      <th>article</th>\n",
       "      <th>link</th>\n",
       "    </tr>\n",
       "  </thead>\n",
       "  <tbody>\n",
       "    <tr>\n",
       "      <th>44810</th>\n",
       "      <td>በመዲናዋ የጋራ መኖሪያ ቤቶችን ግንባታ ለማጠናቀቅና ለማስጀመር የ20 ቢሊ...</td>\n",
       "      <td>ፖለቲካ</td>\n",
       "      <td>September 14, 2017</td>\n",
       "      <td>Unknown</td>\n",
       "      <td>በአዲስ አበባ የተጀመሩ የጋራ መኖሪያ ቤቶችን ግንባታ ለማጠናቀቅና አዳዲስ...</td>\n",
       "      <td>https://waltainfo.com/am/29360/</td>\n",
       "    </tr>\n",
       "    <tr>\n",
       "      <th>18329</th>\n",
       "      <td>አሸንዳ፣ ሻደይ፣ አሸንድዬ፣ ሶለል፣ ማሪያና ዓይኒ ዋሪ በዓል በዩኔስኮ አ...</td>\n",
       "      <td>ሀገር አቀፍ ዜና</td>\n",
       "      <td>Jan 8, 2020</td>\n",
       "      <td>387</td>\n",
       "      <td>አዲስ አበባ፣ ታህሳስ 29፣ 2012 (ኤፍ.ቢ.ሲ) የአሸንዳ፣ ሻደይ፣ አሸ...</td>\n",
       "      <td>https://www.fanabc.com/%e1%8b%a8%e1%8a%a0%e1%8...</td>\n",
       "    </tr>\n",
       "    <tr>\n",
       "      <th>17644</th>\n",
       "      <td>ግምታዊ ዋጋቸው ከ31 ነጥብ 6 ሚሊየን ብር በላይ የሆኑ የኮንትሮባንድ ዕ...</td>\n",
       "      <td>ሀገር አቀፍ ዜና</td>\n",
       "      <td>Mar 4, 2020</td>\n",
       "      <td>634</td>\n",
       "      <td>አዲስ አበባ ፣ የካቲት 25 ፣ 2012 (ኤፍ ቢ ሲ) ባለፉት አምስት ቀና...</td>\n",
       "      <td>https://www.fanabc.com/%e1%8c%8d%e1%88%9d%e1%8...</td>\n",
       "    </tr>\n",
       "    <tr>\n",
       "      <th>32773</th>\n",
       "      <td>​ባምላክ ተሰማ የዓለም ዋንጫ ለመምራት እጩ ከሆኑ ዳኞች ውስጥ ተካተተ</td>\n",
       "      <td>ስፖርት</td>\n",
       "      <td>November 19, 2017</td>\n",
       "      <td>Unknown</td>\n",
       "      <td>ሩሲያ በ2018 ለምታስተናግደው የዓለም ዋንጫ ፊፋ ጨዋታዎችን ሊመሩ የሚች...</td>\n",
       "      <td>https://soccerethiopia.net/football/31318</td>\n",
       "    </tr>\n",
       "    <tr>\n",
       "      <th>4139</th>\n",
       "      <td>“መንገድ ለሰው” መርሐ ግብር በየሳምንቱ እንደሚካሄድ ተገለፀ</td>\n",
       "      <td>ሀገር አቀፍ ዜና</td>\n",
       "      <td>August 7, 2019</td>\n",
       "      <td>32</td>\n",
       "      <td>አዲስ አበባ፤- “መንገድ ለሰው” በሚል በአዲስ አበባ ከተማ ሲካሄድ የነ...</td>\n",
       "      <td>https://www.press.et/Ama/?p=15606</td>\n",
       "    </tr>\n",
       "  </tbody>\n",
       "</table>\n",
       "</div>"
      ],
      "text/plain": [
       "                                                headline    category  \\\n",
       "44810  በመዲናዋ የጋራ መኖሪያ ቤቶችን ግንባታ ለማጠናቀቅና ለማስጀመር የ20 ቢሊ...        ፖለቲካ   \n",
       "18329  አሸንዳ፣ ሻደይ፣ አሸንድዬ፣ ሶለል፣ ማሪያና ዓይኒ ዋሪ በዓል በዩኔስኮ አ...  ሀገር አቀፍ ዜና   \n",
       "17644  ግምታዊ ዋጋቸው ከ31 ነጥብ 6 ሚሊየን ብር በላይ የሆኑ የኮንትሮባንድ ዕ...  ሀገር አቀፍ ዜና   \n",
       "32773       ​ባምላክ ተሰማ የዓለም ዋንጫ ለመምራት እጩ ከሆኑ ዳኞች ውስጥ ተካተተ        ስፖርት   \n",
       "4139              “መንገድ ለሰው” መርሐ ግብር በየሳምንቱ እንደሚካሄድ ተገለፀ  ሀገር አቀፍ ዜና   \n",
       "\n",
       "                     date    views  \\\n",
       "44810  September 14, 2017  Unknown   \n",
       "18329         Jan 8, 2020      387   \n",
       "17644         Mar 4, 2020      634   \n",
       "32773   November 19, 2017  Unknown   \n",
       "4139       August 7, 2019       32   \n",
       "\n",
       "                                                 article  \\\n",
       "44810  በአዲስ አበባ የተጀመሩ የጋራ መኖሪያ ቤቶችን ግንባታ ለማጠናቀቅና አዳዲስ...   \n",
       "18329  አዲስ አበባ፣ ታህሳስ 29፣ 2012 (ኤፍ.ቢ.ሲ) የአሸንዳ፣ ሻደይ፣ አሸ...   \n",
       "17644  አዲስ አበባ ፣ የካቲት 25 ፣ 2012 (ኤፍ ቢ ሲ) ባለፉት አምስት ቀና...   \n",
       "32773  ሩሲያ በ2018 ለምታስተናግደው የዓለም ዋንጫ ፊፋ ጨዋታዎችን ሊመሩ የሚች...   \n",
       "4139    አዲስ አበባ፤- “መንገድ ለሰው” በሚል በአዲስ አበባ ከተማ ሲካሄድ የነ...   \n",
       "\n",
       "                                                    link  \n",
       "44810                    https://waltainfo.com/am/29360/  \n",
       "18329  https://www.fanabc.com/%e1%8b%a8%e1%8a%a0%e1%8...  \n",
       "17644  https://www.fanabc.com/%e1%8c%8d%e1%88%9d%e1%8...  \n",
       "32773          https://soccerethiopia.net/football/31318  \n",
       "4139                   https://www.press.et/Ama/?p=15606  "
      ]
     },
     "execution_count": 56,
     "metadata": {},
     "output_type": "execute_result"
    }
   ],
   "source": [
    "data = pd.read_csv('data/Amharic News Dataset.csv')\n",
    "\n",
    "data = shuffle(data)\n",
    "data.head()"
   ]
  },
  {
   "cell_type": "code",
   "execution_count": 33,
   "metadata": {},
   "outputs": [
    {
     "name": "stdout",
     "output_type": "stream",
     "text": [
      "<class 'pandas.core.frame.DataFrame'>\n",
      "Int64Index: 51483 entries, 44810 to 15795\n",
      "Data columns (total 6 columns):\n",
      " #   Column    Non-Null Count  Dtype \n",
      "---  ------    --------------  ----- \n",
      " 0   headline  51470 non-null  object\n",
      " 1   category  51482 non-null  object\n",
      " 2   date      51483 non-null  object\n",
      " 3   views     51483 non-null  object\n",
      " 4   article   51483 non-null  object\n",
      " 5   link      51483 non-null  object\n",
      "dtypes: object(6)\n",
      "memory usage: 2.7+ MB\n"
     ]
    }
   ],
   "source": [
    "data.info()"
   ]
  },
  {
   "cell_type": "code",
   "execution_count": 57,
   "metadata": {},
   "outputs": [],
   "source": [
    "data = data.dropna(subset=['article'])"
   ]
  },
  {
   "cell_type": "code",
   "execution_count": 58,
   "metadata": {},
   "outputs": [
    {
     "data": {
      "text/plain": [
       "https://amharic.voanews.com//a/amb-tibor-nagy-in-addis-ababa-on-sudan-06-14-19/4960197.html                                                                                                                                                                                                                                                 3\n",
       "https://amharic.voanews.com//a/covid-africa/5535902.html                                                                                                                                                                                                                                                                                    3\n",
       "https://amharic.voanews.com//a/looking-ahead-Ethiopian-renaissance-dam-weaspire-with-voa-alula-kebede-june-2020/5470822.html                                                                                                                                                                                                                3\n",
       "https://amharic.voanews.com//a/ethiocracy-new-economic-system-abate-kassa-wiath-voa-alula-kebede-july-14-2019/5004185.html                                                                                                                                                                                                                  3\n",
       "https://amharic.voanews.com//a/ethiopia-tigrai-mekele/5679989.html                                                                                                                                                                                                                                                                          3\n",
       "                                                                                                                                                                                                                                                                                                                                           ..\n",
       "https://www.ethiopianreporter.com/content/%E1%89%A0%E1%88%B1%E1%8B%B3%E1%8A%95-%E1%8B%88%E1%89%B3%E1%8B%B0%E1%88%AE%E1%89%BD-%E1%89%B3%E1%8D%8D%E1%8A%90%E1%8B%8D-%E1%8B%A8%E1%88%9A%E1%8B%88%E1%88%B0%E1%8B%B1-%E1%8B%9C%E1%8C%8E%E1%89%BD-%E1%89%81%E1%8C%A5%E1%88%AD-%E1%8A%A5%E1%8B%A8%E1%8C%A8%E1%88%98%E1%88%A8-%E1%8A%90%E1%8B%8D    1\n",
       "https://www.press.et/Ama/?p=27087                                                                                                                                                                                                                                                                                                           1\n",
       "https://www.ethiopianreporter.com/article/12848                                                                                                                                                                                                                                                                                             1\n",
       "https://soccerethiopia.net/football/12241                                                                                                                                                                                                                                                                                                   1\n",
       "https://www.fanabc.com/%e1%89%b0%e1%89%80%e1%8c%a3%e1%8c%a3%e1%8b%ad-%e1%8d%88%e1%8a%95%e1%8c%86%e1%89%bd-%e1%8d%a3-%e1%8a%a0%e1%88%9e%e1%8a%92%e1%8b%a8%e1%88%9d-%e1%8a%93%e1%8b%ad%e1%89%b5%e1%88%ac%e1%89%b5%e1%8a%93/                                                                                                                   1\n",
       "Name: link, Length: 50778, dtype: int64"
      ]
     },
     "execution_count": 58,
     "metadata": {},
     "output_type": "execute_result"
    }
   ],
   "source": [
    "data['link'].value_counts()"
   ]
  },
  {
   "cell_type": "code",
   "execution_count": 59,
   "metadata": {},
   "outputs": [
    {
     "data": {
      "text/plain": [
       "array(['ፖለቲካ', 'ሀገር አቀፍ ዜና', 'ስፖርት', 'ዓለም አቀፍ ዜና', 'ቢዝነስ', 'መዝናኛ', nan],\n",
       "      dtype=object)"
      ]
     },
     "execution_count": 59,
     "metadata": {},
     "output_type": "execute_result"
    }
   ],
   "source": [
    "data.category.unique()"
   ]
  },
  {
   "cell_type": "code",
   "execution_count": 60,
   "metadata": {},
   "outputs": [
    {
     "data": {
      "text/html": [
       "<div>\n",
       "<style scoped>\n",
       "    .dataframe tbody tr th:only-of-type {\n",
       "        vertical-align: middle;\n",
       "    }\n",
       "\n",
       "    .dataframe tbody tr th {\n",
       "        vertical-align: top;\n",
       "    }\n",
       "\n",
       "    .dataframe thead th {\n",
       "        text-align: right;\n",
       "    }\n",
       "</style>\n",
       "<table border=\"1\" class=\"dataframe\">\n",
       "  <thead>\n",
       "    <tr style=\"text-align: right;\">\n",
       "      <th></th>\n",
       "      <th>headline</th>\n",
       "      <th>category</th>\n",
       "      <th>date</th>\n",
       "      <th>views</th>\n",
       "      <th>article</th>\n",
       "      <th>link</th>\n",
       "      <th>word_len</th>\n",
       "    </tr>\n",
       "  </thead>\n",
       "  <tbody>\n",
       "    <tr>\n",
       "      <th>44810</th>\n",
       "      <td>በመዲናዋ የጋራ መኖሪያ ቤቶችን ግንባታ ለማጠናቀቅና ለማስጀመር የ20 ቢሊ...</td>\n",
       "      <td>ፖለቲካ</td>\n",
       "      <td>September 14, 2017</td>\n",
       "      <td>Unknown</td>\n",
       "      <td>በአዲስ አበባ የተጀመሩ የጋራ መኖሪያ ቤቶችን ግንባታ ለማጠናቀቅና አዳዲስ...</td>\n",
       "      <td>https://waltainfo.com/am/29360/</td>\n",
       "      <td>302</td>\n",
       "    </tr>\n",
       "    <tr>\n",
       "      <th>18329</th>\n",
       "      <td>አሸንዳ፣ ሻደይ፣ አሸንድዬ፣ ሶለል፣ ማሪያና ዓይኒ ዋሪ በዓል በዩኔስኮ አ...</td>\n",
       "      <td>ሀገር አቀፍ ዜና</td>\n",
       "      <td>Jan 8, 2020</td>\n",
       "      <td>387</td>\n",
       "      <td>አዲስ አበባ፣ ታህሳስ 29፣ 2012 (ኤፍ.ቢ.ሲ) የአሸንዳ፣ ሻደይ፣ አሸ...</td>\n",
       "      <td>https://www.fanabc.com/%e1%8b%a8%e1%8a%a0%e1%8...</td>\n",
       "      <td>165</td>\n",
       "    </tr>\n",
       "    <tr>\n",
       "      <th>17644</th>\n",
       "      <td>ግምታዊ ዋጋቸው ከ31 ነጥብ 6 ሚሊየን ብር በላይ የሆኑ የኮንትሮባንድ ዕ...</td>\n",
       "      <td>ሀገር አቀፍ ዜና</td>\n",
       "      <td>Mar 4, 2020</td>\n",
       "      <td>634</td>\n",
       "      <td>አዲስ አበባ ፣ የካቲት 25 ፣ 2012 (ኤፍ ቢ ሲ) ባለፉት አምስት ቀና...</td>\n",
       "      <td>https://www.fanabc.com/%e1%8c%8d%e1%88%9d%e1%8...</td>\n",
       "      <td>102</td>\n",
       "    </tr>\n",
       "    <tr>\n",
       "      <th>32773</th>\n",
       "      <td>​ባምላክ ተሰማ የዓለም ዋንጫ ለመምራት እጩ ከሆኑ ዳኞች ውስጥ ተካተተ</td>\n",
       "      <td>ስፖርት</td>\n",
       "      <td>November 19, 2017</td>\n",
       "      <td>Unknown</td>\n",
       "      <td>ሩሲያ በ2018 ለምታስተናግደው የዓለም ዋንጫ ፊፋ ጨዋታዎችን ሊመሩ የሚች...</td>\n",
       "      <td>https://soccerethiopia.net/football/31318</td>\n",
       "      <td>143</td>\n",
       "    </tr>\n",
       "    <tr>\n",
       "      <th>4139</th>\n",
       "      <td>“መንገድ ለሰው” መርሐ ግብር በየሳምንቱ እንደሚካሄድ ተገለፀ</td>\n",
       "      <td>ሀገር አቀፍ ዜና</td>\n",
       "      <td>August 7, 2019</td>\n",
       "      <td>32</td>\n",
       "      <td>አዲስ አበባ፤- “መንገድ ለሰው” በሚል በአዲስ አበባ ከተማ ሲካሄድ የነ...</td>\n",
       "      <td>https://www.press.et/Ama/?p=15606</td>\n",
       "      <td>193</td>\n",
       "    </tr>\n",
       "  </tbody>\n",
       "</table>\n",
       "</div>"
      ],
      "text/plain": [
       "                                                headline    category  \\\n",
       "44810  በመዲናዋ የጋራ መኖሪያ ቤቶችን ግንባታ ለማጠናቀቅና ለማስጀመር የ20 ቢሊ...        ፖለቲካ   \n",
       "18329  አሸንዳ፣ ሻደይ፣ አሸንድዬ፣ ሶለል፣ ማሪያና ዓይኒ ዋሪ በዓል በዩኔስኮ አ...  ሀገር አቀፍ ዜና   \n",
       "17644  ግምታዊ ዋጋቸው ከ31 ነጥብ 6 ሚሊየን ብር በላይ የሆኑ የኮንትሮባንድ ዕ...  ሀገር አቀፍ ዜና   \n",
       "32773       ​ባምላክ ተሰማ የዓለም ዋንጫ ለመምራት እጩ ከሆኑ ዳኞች ውስጥ ተካተተ        ስፖርት   \n",
       "4139              “መንገድ ለሰው” መርሐ ግብር በየሳምንቱ እንደሚካሄድ ተገለፀ  ሀገር አቀፍ ዜና   \n",
       "\n",
       "                     date    views  \\\n",
       "44810  September 14, 2017  Unknown   \n",
       "18329         Jan 8, 2020      387   \n",
       "17644         Mar 4, 2020      634   \n",
       "32773   November 19, 2017  Unknown   \n",
       "4139       August 7, 2019       32   \n",
       "\n",
       "                                                 article  \\\n",
       "44810  በአዲስ አበባ የተጀመሩ የጋራ መኖሪያ ቤቶችን ግንባታ ለማጠናቀቅና አዳዲስ...   \n",
       "18329  አዲስ አበባ፣ ታህሳስ 29፣ 2012 (ኤፍ.ቢ.ሲ) የአሸንዳ፣ ሻደይ፣ አሸ...   \n",
       "17644  አዲስ አበባ ፣ የካቲት 25 ፣ 2012 (ኤፍ ቢ ሲ) ባለፉት አምስት ቀና...   \n",
       "32773  ሩሲያ በ2018 ለምታስተናግደው የዓለም ዋንጫ ፊፋ ጨዋታዎችን ሊመሩ የሚች...   \n",
       "4139    አዲስ አበባ፤- “መንገድ ለሰው” በሚል በአዲስ አበባ ከተማ ሲካሄድ የነ...   \n",
       "\n",
       "                                                    link  word_len  \n",
       "44810                    https://waltainfo.com/am/29360/       302  \n",
       "18329  https://www.fanabc.com/%e1%8b%a8%e1%8a%a0%e1%8...       165  \n",
       "17644  https://www.fanabc.com/%e1%8c%8d%e1%88%9d%e1%8...       102  \n",
       "32773          https://soccerethiopia.net/football/31318       143  \n",
       "4139                   https://www.press.et/Ama/?p=15606       193  "
      ]
     },
     "execution_count": 60,
     "metadata": {},
     "output_type": "execute_result"
    }
   ],
   "source": [
    "data['word_len'] = data['article'].str.split().str.len()\n",
    "data.head()"
   ]
  },
  {
   "cell_type": "code",
   "execution_count": 38,
   "metadata": {},
   "outputs": [
    {
     "name": "stdout",
     "output_type": "stream",
     "text": [
      "<class 'pandas.core.frame.DataFrame'>\n",
      "Int64Index: 51483 entries, 44810 to 15795\n",
      "Data columns (total 7 columns):\n",
      " #   Column    Non-Null Count  Dtype \n",
      "---  ------    --------------  ----- \n",
      " 0   headline  51470 non-null  object\n",
      " 1   category  51482 non-null  object\n",
      " 2   date      51483 non-null  object\n",
      " 3   views     51483 non-null  object\n",
      " 4   article   51483 non-null  object\n",
      " 5   link      51483 non-null  object\n",
      " 6   word_len  51483 non-null  int64 \n",
      "dtypes: int64(1), object(6)\n",
      "memory usage: 3.1+ MB\n"
     ]
    }
   ],
   "source": [
    "data.info()"
   ]
  },
  {
   "cell_type": "code",
   "execution_count": 61,
   "metadata": {},
   "outputs": [
    {
     "name": "stdout",
     "output_type": "stream",
     "text": [
      "Total # of words: 12730586, Word Mean: 248.9586853912942\n"
     ]
    }
   ],
   "source": [
    "# Total number of words\n",
    "\n",
    "num_words = data['article'].apply(lambda x: len(x.split(' '))).sum()\n",
    "\n",
    "wrd_mean = data.word_len.mean()\n",
    "\n",
    "print(f\"Total # of words: {num_words}, Word Mean: {wrd_mean}\")"
   ]
  },
  {
   "cell_type": "code",
   "execution_count": 62,
   "metadata": {},
   "outputs": [
    {
     "name": "stdout",
     "output_type": "stream",
     "text": [
      "Before\n",
      " headline    13\n",
      "category     1\n",
      "date         0\n",
      "views        0\n",
      "article      0\n",
      "link         0\n",
      "word_len     0\n",
      "dtype: int64\n",
      "\n",
      "After headline    0\n",
      "category    0\n",
      "date        0\n",
      "views       0\n",
      "article     0\n",
      "link        0\n",
      "word_len    0\n",
      "dtype: int64\n"
     ]
    }
   ],
   "source": [
    "# Removing null and NaN values from all the rows\n",
    "\n",
    "print(f\"Before\\n {data.isna().sum()}\")\n",
    "data.dropna(axis=0, inplace=True)\n",
    "print(f\"After\\n {data.isna().sum()}\")"
   ]
  },
  {
   "cell_type": "markdown",
   "metadata": {},
   "source": [
    "# character level normalization\n",
    "\n",
    "Amharic has characters wich have the same sound that can be interchangably used.\n",
    "\n",
    "for example letters 'ሃ','ኅ','ኃ','ሐ','ሓ','ኻ','ሀ' have the same sound so we change them to 'ሀ' "
   ]
  },
  {
   "cell_type": "code",
   "execution_count": 64,
   "metadata": {},
   "outputs": [],
   "source": [
    "import re\n",
    "#method to normalize character level missmatch such as ጸሀይ and ፀሐይ\n",
    "def normalize_char_level_missmatch(input_token):\n",
    "    rep1=re.sub('[ሃኅኃሐሓኻ]','ሀ',input_token)\n",
    "    rep2=re.sub('[ሑኁዅ]','ሁ',rep1)\n",
    "    rep3=re.sub('[ኂሒኺ]','ሂ',rep2)\n",
    "    rep4=re.sub('[ኌሔዄ]','ሄ',rep3)\n",
    "    rep5=re.sub('[ሕኅ]','ህ',rep4)\n",
    "    rep6=re.sub('[ኆሖኾ]','ሆ',rep5)\n",
    "    rep7=re.sub('[ሠ]','ሰ',rep6)\n",
    "    rep8=re.sub('[ሡ]','ሱ',rep7)\n",
    "    rep9=re.sub('[ሢ]','ሲ',rep8)\n",
    "    rep10=re.sub('[ሣ]','ሳ',rep9)\n",
    "    rep11=re.sub('[ሤ]','ሴ',rep10)\n",
    "    rep12=re.sub('[ሥ]','ስ',rep11)\n",
    "    rep13=re.sub('[ሦ]','ሶ',rep12)\n",
    "    rep14=re.sub('[ዓኣዐ]','አ',rep13)\n",
    "    rep15=re.sub('[ዑ]','ኡ',rep14)\n",
    "    rep16=re.sub('[ዒ]','ኢ',rep15)\n",
    "    rep17=re.sub('[ዔ]','ኤ',rep16)\n",
    "    rep18=re.sub('[ዕ]','እ',rep17)\n",
    "    rep19=re.sub('[ዖ]','ኦ',rep18)\n",
    "    rep20=re.sub('[ጸ]','ፀ',rep19)\n",
    "    rep21=re.sub('[ጹ]','ፁ',rep20)\n",
    "    rep22=re.sub('[ጺ]','ፂ',rep21)\n",
    "    rep23=re.sub('[ጻ]','ፃ',rep22)\n",
    "    rep24=re.sub('[ጼ]','ፄ',rep23)\n",
    "    rep25=re.sub('[ጽ]','ፅ',rep24)\n",
    "    rep26=re.sub('[ጾ]','ፆ',rep25)\n",
    "    #Normalizing words with Labialized Amharic characters such as በልቱዋል or  በልቱአል to  በልቷል  \n",
    "    rep27=re.sub('(ሉ[ዋአ])','ሏ',rep26)\n",
    "    rep28=re.sub('(ሙ[ዋአ])','ሟ',rep27)\n",
    "    rep29=re.sub('(ቱ[ዋአ])','ቷ',rep28)\n",
    "    rep30=re.sub('(ሩ[ዋአ])','ሯ',rep29)\n",
    "    rep31=re.sub('(ሱ[ዋአ])','ሷ',rep30)\n",
    "    rep32=re.sub('(ሹ[ዋአ])','ሿ',rep31)\n",
    "    rep33=re.sub('(ቁ[ዋአ])','ቋ',rep32)\n",
    "    rep34=re.sub('(ቡ[ዋአ])','ቧ',rep33)\n",
    "    rep35=re.sub('(ቹ[ዋአ])','ቿ',rep34)\n",
    "    rep36=re.sub('(ሁ[ዋአ])','ኋ',rep35)\n",
    "    rep37=re.sub('(ኑ[ዋአ])','ኗ',rep36)\n",
    "    rep38=re.sub('(ኙ[ዋአ])','ኟ',rep37)\n",
    "    rep39=re.sub('(ኩ[ዋአ])','ኳ',rep38)\n",
    "    rep40=re.sub('(ዙ[ዋአ])','ዟ',rep39)\n",
    "    rep41=re.sub('(ጉ[ዋአ])','ጓ',rep40)\n",
    "    rep42=re.sub('(ደ[ዋአ])','ዷ',rep41)\n",
    "    rep43=re.sub('(ጡ[ዋአ])','ጧ',rep42)\n",
    "    rep44=re.sub('(ጩ[ዋአ])','ጯ',rep43)\n",
    "    rep45=re.sub('(ጹ[ዋአ])','ጿ',rep44)\n",
    "    rep46=re.sub('(ፉ[ዋአ])','ፏ',rep45)\n",
    "    rep47=re.sub('[ቊ]','ቁ',rep46) #ቁ can be written as ቊ\n",
    "    rep48=re.sub('[ኵ]','ኩ',rep47) #ኩ can be also written as ኵ  \n",
    "    return rep48\n"
   ]
  },
  {
   "cell_type": "code",
   "execution_count": 65,
   "metadata": {},
   "outputs": [],
   "source": [
    "data['article'] = data['article'].str.replace('[^\\w\\s]','')"
   ]
  },
  {
   "cell_type": "code",
   "execution_count": 66,
   "metadata": {},
   "outputs": [],
   "source": [
    "data['article'] = data['article'].apply(lambda x: normalize_char_level_missmatch(x))"
   ]
  },
  {
   "cell_type": "code",
   "execution_count": 67,
   "metadata": {},
   "outputs": [],
   "source": [
    "n_data = data[['article','category']]\n",
    "n_data.head()\n",
    "\n",
    "text,label = data['article'].values,data['category'].values"
   ]
  },
  {
   "cell_type": "markdown",
   "metadata": {},
   "source": [
    "## Model Development"
   ]
  },
  {
   "cell_type": "code",
   "execution_count": 46,
   "metadata": {},
   "outputs": [],
   "source": [
    "# Train Test Split\n",
    "\n",
    "from sklearn.model_selection import train_test_split\n",
    "\n",
    "X = text\n",
    "y = label\n",
    "X_train, X_test, y_train, y_test = train_test_split(X, y, test_size=0.2, random_state = 42)"
   ]
  },
  {
   "cell_type": "markdown",
   "metadata": {},
   "source": [
    "#### Logistics Regression with TfidfTransformer"
   ]
  },
  {
   "cell_type": "code",
   "execution_count": 69,
   "metadata": {},
   "outputs": [
    {
     "data": {
      "text/plain": [
       "Pipeline(steps=[('vect', CountVectorizer()), ('tfidf', TfidfTransformer()),\n",
       "                ('clf', LogisticRegression(C=100000.0, n_jobs=1))])"
      ]
     },
     "execution_count": 69,
     "metadata": {},
     "output_type": "execute_result"
    }
   ],
   "source": [
    "from sklearn.linear_model import LogisticRegression\n",
    "\n",
    "lr = Pipeline([('vect', CountVectorizer()),\n",
    "                ('tfidf', TfidfTransformer()),\n",
    "                ('clf', LogisticRegression(n_jobs=1, C=1e5)),\n",
    "               ])\n",
    "lr.fit(X_train, y_train)"
   ]
  },
  {
   "cell_type": "code",
   "execution_count": 71,
   "metadata": {},
   "outputs": [
    {
     "name": "stdout",
     "output_type": "stream",
     "text": [
      "accuracy 0.8417524771711676\n",
      "              precision    recall  f1-score   support\n",
      "\n",
      "        ፖለቲካ       0.85      0.84      0.84      4090\n",
      "  ሀገር አቀፍ ዜና       0.82      0.74      0.78       126\n",
      "        ስፖርት       0.97      0.98      0.98      2102\n",
      "  ዓለም አቀፍ ዜና       0.65      0.66      0.66       795\n",
      "        ቢዝነስ       0.87      0.86      0.87      1308\n",
      "        መዝናኛ       0.74      0.77      0.76      1873\n",
      "\n",
      "    accuracy                           0.84     10294\n",
      "   macro avg       0.82      0.81      0.81     10294\n",
      "weighted avg       0.84      0.84      0.84     10294\n",
      "\n"
     ]
    }
   ],
   "source": [
    "from sklearn.metrics import classification_report, accuracy_score\n",
    "y_pred = lr.predict(X_test)\n",
    "\n",
    "print(f'accuracy {accuracy_score(y_pred, y_test)}')\n",
    "print(classification_report(y_test, y_pred,target_names=data.category.unique()))"
   ]
  },
  {
   "cell_type": "markdown",
   "metadata": {},
   "source": [
    "#### SGDClassifier with TfidfTransformer"
   ]
  },
  {
   "cell_type": "code",
   "execution_count": 72,
   "metadata": {},
   "outputs": [
    {
     "data": {
      "text/plain": [
       "Pipeline(steps=[('vect', CountVectorizer()), ('tfidf', TfidfTransformer()),\n",
       "                ('clf',\n",
       "                 SGDClassifier(alpha=0.001, max_iter=5, random_state=42,\n",
       "                               tol=None))])"
      ]
     },
     "execution_count": 72,
     "metadata": {},
     "output_type": "execute_result"
    }
   ],
   "source": [
    "from sklearn.linear_model import SGDClassifier\n",
    "\n",
    "sgd = Pipeline([('vect', CountVectorizer()),\n",
    "                ('tfidf', TfidfTransformer()),\n",
    "                ('clf', SGDClassifier(loss='hinge', penalty='l2',alpha=1e-3, random_state=42, max_iter=5, tol=None)),\n",
    "               ])\n",
    "sgd.fit(X_train, y_train)"
   ]
  },
  {
   "cell_type": "code",
   "execution_count": 73,
   "metadata": {},
   "outputs": [
    {
     "name": "stdout",
     "output_type": "stream",
     "text": [
      "accuracy 0.7280940353604041\n",
      "              precision    recall  f1-score   support\n",
      "\n",
      "        ፖለቲካ       0.62      0.95      0.75      4090\n",
      "  ሀገር አቀፍ ዜና       1.00      0.02      0.03       126\n",
      "        ስፖርት       0.96      0.95      0.95      2102\n",
      "  ዓለም አቀፍ ዜና       0.88      0.23      0.36       795\n",
      "        ቢዝነስ       0.84      0.62      0.72      1308\n",
      "        መዝናኛ       0.80      0.33      0.47      1873\n",
      "\n",
      "    accuracy                           0.73     10294\n",
      "   macro avg       0.85      0.52      0.55     10294\n",
      "weighted avg       0.77      0.73      0.70     10294\n",
      "\n"
     ]
    }
   ],
   "source": [
    "from sklearn.metrics import classification_report, accuracy_score\n",
    "y_pred = sgd.predict(X_test)\n",
    "\n",
    "print(f'accuracy {accuracy_score(y_pred, y_test)}')\n",
    "print(classification_report(y_test, y_pred,target_names=data.category.unique()))"
   ]
  },
  {
   "cell_type": "code",
   "execution_count": null,
   "metadata": {},
   "outputs": [],
   "source": []
  }
 ],
 "metadata": {
  "kernelspec": {
   "display_name": "Python 3.7.11 ('m_lab')",
   "language": "python",
   "name": "python3"
  },
  "language_info": {
   "codemirror_mode": {
    "name": "ipython",
    "version": 3
   },
   "file_extension": ".py",
   "mimetype": "text/x-python",
   "name": "python",
   "nbconvert_exporter": "python",
   "pygments_lexer": "ipython3",
   "version": "3.7.11"
  },
  "vscode": {
   "interpreter": {
    "hash": "2dacd8d19d2533c8f9a1e0fcf0adf9297c02c5545563013148e978534bc2241a"
   }
  }
 },
 "nbformat": 4,
 "nbformat_minor": 4
}
