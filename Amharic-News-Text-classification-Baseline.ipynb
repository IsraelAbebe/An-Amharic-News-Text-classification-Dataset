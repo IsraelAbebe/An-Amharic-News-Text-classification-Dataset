{
 "cells": [
  {
   "cell_type": "code",
   "execution_count": 1,
   "metadata": {},
   "outputs": [],
   "source": [
    "%matplotlib inline\n",
    "\n",
    "import matplotlib\n",
    "import pandas as pd\n",
    "import numpy as np\n",
    "from sklearn.utils import shuffle\n",
    "\n",
    "np.random.seed(42) "
   ]
  },
  {
   "cell_type": "markdown",
   "metadata": {},
   "source": [
    "# Exploratory Data Analysis"
   ]
  },
  {
   "cell_type": "code",
   "execution_count": 2,
   "metadata": {},
   "outputs": [
    {
     "data": {
      "text/html": [
       "<div>\n",
       "<style scoped>\n",
       "    .dataframe tbody tr th:only-of-type {\n",
       "        vertical-align: middle;\n",
       "    }\n",
       "\n",
       "    .dataframe tbody tr th {\n",
       "        vertical-align: top;\n",
       "    }\n",
       "\n",
       "    .dataframe thead th {\n",
       "        text-align: right;\n",
       "    }\n",
       "</style>\n",
       "<table border=\"1\" class=\"dataframe\">\n",
       "  <thead>\n",
       "    <tr style=\"text-align: right;\">\n",
       "      <th></th>\n",
       "      <th>headline</th>\n",
       "      <th>category</th>\n",
       "      <th>date</th>\n",
       "      <th>views</th>\n",
       "      <th>article</th>\n",
       "      <th>link</th>\n",
       "    </tr>\n",
       "  </thead>\n",
       "  <tbody>\n",
       "    <tr>\n",
       "      <th>15168</th>\n",
       "      <td>ህወሃት ከፌዴራሊስት ሀይሎች ጋር እየሰራሁ ነው በማለት ህብረተሰቡን እያወ...</td>\n",
       "      <td>ሀገር አቀፍ ዜና</td>\n",
       "      <td>26-Sep-20</td>\n",
       "      <td>2,204</td>\n",
       "      <td>አዲስ አበባ፣ መስከረም 16፣ 2013 (ኤፍ.ቢ.ሲ) ህወሃት ከፌዴራሊስት ...</td>\n",
       "      <td>https://www.fanabc.com/%e1%88%85%e1%8b%88%e1%8...</td>\n",
       "    </tr>\n",
       "    <tr>\n",
       "      <th>13721</th>\n",
       "      <td>አቶ ደመቀ መኮንን ከተመድ የአፍሪካ ቀንድ ልዩ መልእክተኛ ጋር ተወያዩ</td>\n",
       "      <td>ሀገር አቀፍ ዜና</td>\n",
       "      <td>1-Dec-20</td>\n",
       "      <td>336</td>\n",
       "      <td>አዲስ አበባ፣ ህዳር 22፣ 2013 (ኤፍ.ቢ.ሲ) የኢፌዴሪ ምክትል ጠቅላይ...</td>\n",
       "      <td>https://www.fanabc.com/%e1%8a%a0%e1%89%b6-%e1%...</td>\n",
       "    </tr>\n",
       "    <tr>\n",
       "      <th>21287</th>\n",
       "      <td>በአዲስ ዓመት ዋዜማ አራት ሰዎች በማይታወቁ ተሽከርካሪዎች ተገጭተው ሞቱ</td>\n",
       "      <td>ፖለቲካ</td>\n",
       "      <td>15-Sep-19</td>\n",
       "      <td>Unknown</td>\n",
       "      <td>የ2011 ዓ.ም. ያለ ምንም የወንጀል ድርጊት በሰላም መጠናቀቁን ፖሊስ ቢ...</td>\n",
       "      <td>https://www.ethiopianreporter.com/article/16750</td>\n",
       "    </tr>\n",
       "    <tr>\n",
       "      <th>16264</th>\n",
       "      <td>“የህዳሴ ግድቡ በወቅቱ በነበሩ የቦርድ ሰብሳቢ አድራጊ ፈጣሪነት ለከፍተኛ...</td>\n",
       "      <td>ሀገር አቀፍ ዜና</td>\n",
       "      <td>18-Jun-20</td>\n",
       "      <td>1,751</td>\n",
       "      <td>አዲስ አበባ፣ ሰኔ 11፣ 2012 (ኤፍ. ቢ.ሲ) የህዳሴ ግድብ ግንባታ በ...</td>\n",
       "      <td>https://www.fanabc.com/%e1%8b%a8%e1%88%85%e1%8...</td>\n",
       "    </tr>\n",
       "    <tr>\n",
       "      <th>24513</th>\n",
       "      <td>በኦሮሚያ ክልል ንብረቶቻቸው የወደሙባቸው ኢንቨስተሮች የካሳ ጥያቄ እያቀረ...</td>\n",
       "      <td>ፖለቲካ</td>\n",
       "      <td>23-Oct-16</td>\n",
       "      <td>Unknown</td>\n",
       "      <td>በመስከረም ወር መጨረሻ በኦሮሚያ ክልል በተነሳው ሁከት ንብረቶቻቸው የወደ...</td>\n",
       "      <td>https://www.ethiopianreporter.com/content/%E1%...</td>\n",
       "    </tr>\n",
       "  </tbody>\n",
       "</table>\n",
       "</div>"
      ],
      "text/plain": [
       "                                                headline    category  \\\n",
       "15168  ህወሃት ከፌዴራሊስት ሀይሎች ጋር እየሰራሁ ነው በማለት ህብረተሰቡን እያወ...  ሀገር አቀፍ ዜና   \n",
       "13721       አቶ ደመቀ መኮንን ከተመድ የአፍሪካ ቀንድ ልዩ መልእክተኛ ጋር ተወያዩ  ሀገር አቀፍ ዜና   \n",
       "21287      በአዲስ ዓመት ዋዜማ አራት ሰዎች በማይታወቁ ተሽከርካሪዎች ተገጭተው ሞቱ        ፖለቲካ   \n",
       "16264  “የህዳሴ ግድቡ በወቅቱ በነበሩ የቦርድ ሰብሳቢ አድራጊ ፈጣሪነት ለከፍተኛ...  ሀገር አቀፍ ዜና   \n",
       "24513  በኦሮሚያ ክልል ንብረቶቻቸው የወደሙባቸው ኢንቨስተሮች የካሳ ጥያቄ እያቀረ...        ፖለቲካ   \n",
       "\n",
       "            date    views                                            article  \\\n",
       "15168  26-Sep-20    2,204  አዲስ አበባ፣ መስከረም 16፣ 2013 (ኤፍ.ቢ.ሲ) ህወሃት ከፌዴራሊስት ...   \n",
       "13721   1-Dec-20      336  አዲስ አበባ፣ ህዳር 22፣ 2013 (ኤፍ.ቢ.ሲ) የኢፌዴሪ ምክትል ጠቅላይ...   \n",
       "21287  15-Sep-19  Unknown  የ2011 ዓ.ም. ያለ ምንም የወንጀል ድርጊት በሰላም መጠናቀቁን ፖሊስ ቢ...   \n",
       "16264  18-Jun-20    1,751  አዲስ አበባ፣ ሰኔ 11፣ 2012 (ኤፍ. ቢ.ሲ) የህዳሴ ግድብ ግንባታ በ...   \n",
       "24513  23-Oct-16  Unknown  በመስከረም ወር መጨረሻ በኦሮሚያ ክልል በተነሳው ሁከት ንብረቶቻቸው የወደ...   \n",
       "\n",
       "                                                    link  \n",
       "15168  https://www.fanabc.com/%e1%88%85%e1%8b%88%e1%8...  \n",
       "13721  https://www.fanabc.com/%e1%8a%a0%e1%89%b6-%e1%...  \n",
       "21287    https://www.ethiopianreporter.com/article/16750  \n",
       "16264  https://www.fanabc.com/%e1%8b%a8%e1%88%85%e1%8...  \n",
       "24513  https://www.ethiopianreporter.com/content/%E1%...  "
      ]
     },
     "execution_count": 2,
     "metadata": {},
     "output_type": "execute_result"
    }
   ],
   "source": [
    "data = pd.read_csv('data/Amharic News Dataset.csv')\n",
    "\n",
    "data = shuffle(data)\n",
    "data.head()"
   ]
  },
  {
   "cell_type": "code",
   "execution_count": 3,
   "metadata": {},
   "outputs": [
    {
     "name": "stdout",
     "output_type": "stream",
     "text": [
      "<class 'pandas.core.frame.DataFrame'>\n",
      "Int64Index: 50708 entries, 15168 to 15795\n",
      "Data columns (total 6 columns):\n",
      " #   Column    Non-Null Count  Dtype \n",
      "---  ------    --------------  ----- \n",
      " 0   headline  50694 non-null  object\n",
      " 1   category  50706 non-null  object\n",
      " 2   date      50707 non-null  object\n",
      " 3   views     50707 non-null  object\n",
      " 4   article   50707 non-null  object\n",
      " 5   link      50706 non-null  object\n",
      "dtypes: object(6)\n",
      "memory usage: 2.7+ MB\n"
     ]
    }
   ],
   "source": [
    "data.info()"
   ]
  },
  {
   "cell_type": "code",
   "execution_count": 4,
   "metadata": {},
   "outputs": [],
   "source": [
    "data = data.dropna(subset=['article'])"
   ]
  },
  {
   "cell_type": "code",
   "execution_count": 5,
   "metadata": {},
   "outputs": [
    {
     "data": {
      "text/plain": [
       "https://amharic.voanews.com//a/ethiopia-tigrai-mekele/5679989.html                                                                                                                                                                                                                                                                                                        3\n",
       "https://amharic.voanews.com//a/rev-jesse-jackson-letter-to-hon-karen-bass-about-nile-river-5-21-2020o/5430577.html                                                                                                                                                                                                                                                        3\n",
       "https://amharic.voanews.com//a/white-house-on-river-nile-and-ethiopias-dam-10-03-19/5110165.html                                                                                                                                                                                                                                                                          3\n",
       "https://amharic.voanews.com//a/sudan-laws/5499793.html                                                                                                                                                                                                                                                                                                                    3\n",
       "https://amharic.voanews.com//a/covid-ethiopia/5470709.html                                                                                                                                                                                                                                                                                                                3\n",
       "                                                                                                                                                                                                                                                                                                                                                                         ..\n",
       "https://am.al-ain.com/article/an-interim-experts-summit-is-to-be-formed-to-resolve-differences-among-olf-members                                                                                                                                                                                                                                                          1\n",
       "https://soccerethiopia.net/football/7715                                                                                                                                                                                                                                                                                                                                  1\n",
       "https://waltainfo.com/am/29558/                                                                                                                                                                                                                                                                                                                                           1\n",
       "https://www.addisadmassnews.com/index.php?option=com_k2&view=item&id=20922:%E1%89%A02050-%E1%8A%A8%E1%8A%A0%E1%88%88%E1%88%9B%E1%89%BD%E1%8A%95-%E1%88%85%E1%8B%9D%E1%89%A5-%E1%88%A9%E1%89%A5-%E1%8B%AB%E1%88%85%E1%88%89-%E1%8A%A0%E1%8D%8D%E1%88%AA%E1%8A%AB%E1%8B%8D%E1%8B%AB%E1%8A%95-%E1%8B%AD%E1%88%86%E1%8A%93%E1%88%89-%E1%89%B0%E1%89%A3%E1%88%88&Itemid=212    1\n",
       "https://waltainfo.com/am/28427/                                                                                                                                                                                                                                                                                                                                           1\n",
       "Name: link, Length: 50008, dtype: int64"
      ]
     },
     "execution_count": 5,
     "metadata": {},
     "output_type": "execute_result"
    }
   ],
   "source": [
    "data['link'].value_counts()"
   ]
  },
  {
   "cell_type": "code",
   "execution_count": 6,
   "metadata": {},
   "outputs": [
    {
     "data": {
      "text/plain": [
       "array(['ሀገር አቀፍ ዜና', 'ፖለቲካ', 'ስፖርት', 'ዓለም አቀፍ ዜና', 'ቢዝነስ', 'መዝናኛ', nan],\n",
       "      dtype=object)"
      ]
     },
     "execution_count": 6,
     "metadata": {},
     "output_type": "execute_result"
    }
   ],
   "source": [
    "data.category.unique()"
   ]
  },
  {
   "cell_type": "code",
   "execution_count": 7,
   "metadata": {},
   "outputs": [
    {
     "data": {
      "text/html": [
       "<div>\n",
       "<style scoped>\n",
       "    .dataframe tbody tr th:only-of-type {\n",
       "        vertical-align: middle;\n",
       "    }\n",
       "\n",
       "    .dataframe tbody tr th {\n",
       "        vertical-align: top;\n",
       "    }\n",
       "\n",
       "    .dataframe thead th {\n",
       "        text-align: right;\n",
       "    }\n",
       "</style>\n",
       "<table border=\"1\" class=\"dataframe\">\n",
       "  <thead>\n",
       "    <tr style=\"text-align: right;\">\n",
       "      <th></th>\n",
       "      <th>headline</th>\n",
       "      <th>category</th>\n",
       "      <th>date</th>\n",
       "      <th>views</th>\n",
       "      <th>article</th>\n",
       "      <th>link</th>\n",
       "      <th>word_len</th>\n",
       "    </tr>\n",
       "  </thead>\n",
       "  <tbody>\n",
       "    <tr>\n",
       "      <th>15168</th>\n",
       "      <td>ህወሃት ከፌዴራሊስት ሀይሎች ጋር እየሰራሁ ነው በማለት ህብረተሰቡን እያወ...</td>\n",
       "      <td>ሀገር አቀፍ ዜና</td>\n",
       "      <td>26-Sep-20</td>\n",
       "      <td>2,204</td>\n",
       "      <td>አዲስ አበባ፣ መስከረም 16፣ 2013 (ኤፍ.ቢ.ሲ) ህወሃት ከፌዴራሊስት ...</td>\n",
       "      <td>https://www.fanabc.com/%e1%88%85%e1%8b%88%e1%8...</td>\n",
       "      <td>206</td>\n",
       "    </tr>\n",
       "    <tr>\n",
       "      <th>13721</th>\n",
       "      <td>አቶ ደመቀ መኮንን ከተመድ የአፍሪካ ቀንድ ልዩ መልእክተኛ ጋር ተወያዩ</td>\n",
       "      <td>ሀገር አቀፍ ዜና</td>\n",
       "      <td>1-Dec-20</td>\n",
       "      <td>336</td>\n",
       "      <td>አዲስ አበባ፣ ህዳር 22፣ 2013 (ኤፍ.ቢ.ሲ) የኢፌዴሪ ምክትል ጠቅላይ...</td>\n",
       "      <td>https://www.fanabc.com/%e1%8a%a0%e1%89%b6-%e1%...</td>\n",
       "      <td>141</td>\n",
       "    </tr>\n",
       "    <tr>\n",
       "      <th>21287</th>\n",
       "      <td>በአዲስ ዓመት ዋዜማ አራት ሰዎች በማይታወቁ ተሽከርካሪዎች ተገጭተው ሞቱ</td>\n",
       "      <td>ፖለቲካ</td>\n",
       "      <td>15-Sep-19</td>\n",
       "      <td>Unknown</td>\n",
       "      <td>የ2011 ዓ.ም. ያለ ምንም የወንጀል ድርጊት በሰላም መጠናቀቁን ፖሊስ ቢ...</td>\n",
       "      <td>https://www.ethiopianreporter.com/article/16750</td>\n",
       "      <td>206</td>\n",
       "    </tr>\n",
       "    <tr>\n",
       "      <th>16264</th>\n",
       "      <td>“የህዳሴ ግድቡ በወቅቱ በነበሩ የቦርድ ሰብሳቢ አድራጊ ፈጣሪነት ለከፍተኛ...</td>\n",
       "      <td>ሀገር አቀፍ ዜና</td>\n",
       "      <td>18-Jun-20</td>\n",
       "      <td>1,751</td>\n",
       "      <td>አዲስ አበባ፣ ሰኔ 11፣ 2012 (ኤፍ. ቢ.ሲ) የህዳሴ ግድብ ግንባታ በ...</td>\n",
       "      <td>https://www.fanabc.com/%e1%8b%a8%e1%88%85%e1%8...</td>\n",
       "      <td>261</td>\n",
       "    </tr>\n",
       "    <tr>\n",
       "      <th>24513</th>\n",
       "      <td>በኦሮሚያ ክልል ንብረቶቻቸው የወደሙባቸው ኢንቨስተሮች የካሳ ጥያቄ እያቀረ...</td>\n",
       "      <td>ፖለቲካ</td>\n",
       "      <td>23-Oct-16</td>\n",
       "      <td>Unknown</td>\n",
       "      <td>በመስከረም ወር መጨረሻ በኦሮሚያ ክልል በተነሳው ሁከት ንብረቶቻቸው የወደ...</td>\n",
       "      <td>https://www.ethiopianreporter.com/content/%E1%...</td>\n",
       "      <td>461</td>\n",
       "    </tr>\n",
       "  </tbody>\n",
       "</table>\n",
       "</div>"
      ],
      "text/plain": [
       "                                                headline    category  \\\n",
       "15168  ህወሃት ከፌዴራሊስት ሀይሎች ጋር እየሰራሁ ነው በማለት ህብረተሰቡን እያወ...  ሀገር አቀፍ ዜና   \n",
       "13721       አቶ ደመቀ መኮንን ከተመድ የአፍሪካ ቀንድ ልዩ መልእክተኛ ጋር ተወያዩ  ሀገር አቀፍ ዜና   \n",
       "21287      በአዲስ ዓመት ዋዜማ አራት ሰዎች በማይታወቁ ተሽከርካሪዎች ተገጭተው ሞቱ        ፖለቲካ   \n",
       "16264  “የህዳሴ ግድቡ በወቅቱ በነበሩ የቦርድ ሰብሳቢ አድራጊ ፈጣሪነት ለከፍተኛ...  ሀገር አቀፍ ዜና   \n",
       "24513  በኦሮሚያ ክልል ንብረቶቻቸው የወደሙባቸው ኢንቨስተሮች የካሳ ጥያቄ እያቀረ...        ፖለቲካ   \n",
       "\n",
       "            date    views                                            article  \\\n",
       "15168  26-Sep-20    2,204  አዲስ አበባ፣ መስከረም 16፣ 2013 (ኤፍ.ቢ.ሲ) ህወሃት ከፌዴራሊስት ...   \n",
       "13721   1-Dec-20      336  አዲስ አበባ፣ ህዳር 22፣ 2013 (ኤፍ.ቢ.ሲ) የኢፌዴሪ ምክትል ጠቅላይ...   \n",
       "21287  15-Sep-19  Unknown  የ2011 ዓ.ም. ያለ ምንም የወንጀል ድርጊት በሰላም መጠናቀቁን ፖሊስ ቢ...   \n",
       "16264  18-Jun-20    1,751  አዲስ አበባ፣ ሰኔ 11፣ 2012 (ኤፍ. ቢ.ሲ) የህዳሴ ግድብ ግንባታ በ...   \n",
       "24513  23-Oct-16  Unknown  በመስከረም ወር መጨረሻ በኦሮሚያ ክልል በተነሳው ሁከት ንብረቶቻቸው የወደ...   \n",
       "\n",
       "                                                    link  word_len  \n",
       "15168  https://www.fanabc.com/%e1%88%85%e1%8b%88%e1%8...       206  \n",
       "13721  https://www.fanabc.com/%e1%8a%a0%e1%89%b6-%e1%...       141  \n",
       "21287    https://www.ethiopianreporter.com/article/16750       206  \n",
       "16264  https://www.fanabc.com/%e1%8b%a8%e1%88%85%e1%8...       261  \n",
       "24513  https://www.ethiopianreporter.com/content/%E1%...       461  "
      ]
     },
     "execution_count": 7,
     "metadata": {},
     "output_type": "execute_result"
    }
   ],
   "source": [
    "data['word_len'] = data['article'].str.split().str.len()\n",
    "data.head()"
   ]
  },
  {
   "cell_type": "code",
   "execution_count": 8,
   "metadata": {},
   "outputs": [
    {
     "name": "stdout",
     "output_type": "stream",
     "text": [
      "<class 'pandas.core.frame.DataFrame'>\n",
      "Int64Index: 50707 entries, 15168 to 15795\n",
      "Data columns (total 7 columns):\n",
      " #   Column    Non-Null Count  Dtype \n",
      "---  ------    --------------  ----- \n",
      " 0   headline  50694 non-null  object\n",
      " 1   category  50706 non-null  object\n",
      " 2   date      50707 non-null  object\n",
      " 3   views     50707 non-null  object\n",
      " 4   article   50707 non-null  object\n",
      " 5   link      50706 non-null  object\n",
      " 6   word_len  50707 non-null  int64 \n",
      "dtypes: int64(1), object(6)\n",
      "memory usage: 3.1+ MB\n"
     ]
    }
   ],
   "source": [
    "data.info()"
   ]
  },
  {
   "cell_type": "code",
   "execution_count": 9,
   "metadata": {},
   "outputs": [
    {
     "data": {
      "text/plain": [
       "249.65586605399648"
      ]
     },
     "execution_count": 9,
     "metadata": {},
     "output_type": "execute_result"
    }
   ],
   "source": [
    "data.word_len.mean()"
   ]
  },
  {
   "cell_type": "markdown",
   "metadata": {},
   "source": [
    "# character level normalization\n",
    "\n",
    "Amharic has characters wich have the same sound that can be interchangably used.\n",
    "\n",
    "for example letters 'ሃ','ኅ','ኃ','ሐ','ሓ','ኻ','ሀ' have the same sound so we change them to 'ሀ' "
   ]
  },
  {
   "cell_type": "code",
   "execution_count": 10,
   "metadata": {},
   "outputs": [],
   "source": [
    "import re\n",
    "#method to normalize character level missmatch such as ጸሀይ and ፀሐይ\n",
    "def normalize_char_level_missmatch(input_token):\n",
    "    rep1=re.sub('[ሃኅኃሐሓኻ]','ሀ',input_token)\n",
    "    rep2=re.sub('[ሑኁዅ]','ሁ',rep1)\n",
    "    rep3=re.sub('[ኂሒኺ]','ሂ',rep2)\n",
    "    rep4=re.sub('[ኌሔዄ]','ሄ',rep3)\n",
    "    rep5=re.sub('[ሕኅ]','ህ',rep4)\n",
    "    rep6=re.sub('[ኆሖኾ]','ሆ',rep5)\n",
    "    rep7=re.sub('[ሠ]','ሰ',rep6)\n",
    "    rep8=re.sub('[ሡ]','ሱ',rep7)\n",
    "    rep9=re.sub('[ሢ]','ሲ',rep8)\n",
    "    rep10=re.sub('[ሣ]','ሳ',rep9)\n",
    "    rep11=re.sub('[ሤ]','ሴ',rep10)\n",
    "    rep12=re.sub('[ሥ]','ስ',rep11)\n",
    "    rep13=re.sub('[ሦ]','ሶ',rep12)\n",
    "    rep14=re.sub('[ዓኣዐ]','አ',rep13)\n",
    "    rep15=re.sub('[ዑ]','ኡ',rep14)\n",
    "    rep16=re.sub('[ዒ]','ኢ',rep15)\n",
    "    rep17=re.sub('[ዔ]','ኤ',rep16)\n",
    "    rep18=re.sub('[ዕ]','እ',rep17)\n",
    "    rep19=re.sub('[ዖ]','ኦ',rep18)\n",
    "    rep20=re.sub('[ጸ]','ፀ',rep19)\n",
    "    rep21=re.sub('[ጹ]','ፁ',rep20)\n",
    "    rep22=re.sub('[ጺ]','ፂ',rep21)\n",
    "    rep23=re.sub('[ጻ]','ፃ',rep22)\n",
    "    rep24=re.sub('[ጼ]','ፄ',rep23)\n",
    "    rep25=re.sub('[ጽ]','ፅ',rep24)\n",
    "    rep26=re.sub('[ጾ]','ፆ',rep25)\n",
    "    #Normalizing words with Labialized Amharic characters such as በልቱዋል or  በልቱአል to  በልቷል  \n",
    "    rep27=re.sub('(ሉ[ዋአ])','ሏ',rep26)\n",
    "    rep28=re.sub('(ሙ[ዋአ])','ሟ',rep27)\n",
    "    rep29=re.sub('(ቱ[ዋአ])','ቷ',rep28)\n",
    "    rep30=re.sub('(ሩ[ዋአ])','ሯ',rep29)\n",
    "    rep31=re.sub('(ሱ[ዋአ])','ሷ',rep30)\n",
    "    rep32=re.sub('(ሹ[ዋአ])','ሿ',rep31)\n",
    "    rep33=re.sub('(ቁ[ዋአ])','ቋ',rep32)\n",
    "    rep34=re.sub('(ቡ[ዋአ])','ቧ',rep33)\n",
    "    rep35=re.sub('(ቹ[ዋአ])','ቿ',rep34)\n",
    "    rep36=re.sub('(ሁ[ዋአ])','ኋ',rep35)\n",
    "    rep37=re.sub('(ኑ[ዋአ])','ኗ',rep36)\n",
    "    rep38=re.sub('(ኙ[ዋአ])','ኟ',rep37)\n",
    "    rep39=re.sub('(ኩ[ዋአ])','ኳ',rep38)\n",
    "    rep40=re.sub('(ዙ[ዋአ])','ዟ',rep39)\n",
    "    rep41=re.sub('(ጉ[ዋአ])','ጓ',rep40)\n",
    "    rep42=re.sub('(ደ[ዋአ])','ዷ',rep41)\n",
    "    rep43=re.sub('(ጡ[ዋአ])','ጧ',rep42)\n",
    "    rep44=re.sub('(ጩ[ዋአ])','ጯ',rep43)\n",
    "    rep45=re.sub('(ጹ[ዋአ])','ጿ',rep44)\n",
    "    rep46=re.sub('(ፉ[ዋአ])','ፏ',rep45)\n",
    "    rep47=re.sub('[ቊ]','ቁ',rep46) #ቁ can be written as ቊ\n",
    "    rep48=re.sub('[ኵ]','ኩ',rep47) #ኩ can be also written as ኵ  \n",
    "    return rep48\n"
   ]
  },
  {
   "cell_type": "code",
   "execution_count": 11,
   "metadata": {},
   "outputs": [],
   "source": [
    "data['article'] = data['article'].str.replace('[^\\w\\s]','')"
   ]
  },
  {
   "cell_type": "code",
   "execution_count": 12,
   "metadata": {},
   "outputs": [],
   "source": [
    "data['article'] = data['article'].apply(lambda x: normalize_char_level_missmatch(x))"
   ]
  },
  {
   "cell_type": "code",
   "execution_count": 13,
   "metadata": {},
   "outputs": [],
   "source": [
    "n_data = data[['article','category']]\n",
    "n_data.head()\n",
    "\n",
    "text,label = data['article'].values,data['category'].values"
   ]
  },
  {
   "cell_type": "code",
   "execution_count": 14,
   "metadata": {},
   "outputs": [],
   "source": [
    "# n_data.head(5).to_csv('table.csv')"
   ]
  },
  {
   "cell_type": "markdown",
   "metadata": {},
   "source": [
    "# Naive Bays - CountVectorizer"
   ]
  },
  {
   "cell_type": "code",
   "execution_count": 15,
   "metadata": {},
   "outputs": [
    {
     "data": {
      "text/plain": [
       "array([[0, 0, 0, ..., 0, 0, 0],\n",
       "       [0, 0, 0, ..., 0, 0, 0],\n",
       "       [1, 0, 0, ..., 0, 0, 5],\n",
       "       ...,\n",
       "       [0, 0, 0, ..., 0, 0, 0],\n",
       "       [0, 0, 0, ..., 0, 0, 0],\n",
       "       [0, 0, 0, ..., 0, 0, 0]])"
      ]
     },
     "execution_count": 15,
     "metadata": {},
     "output_type": "execute_result"
    }
   ],
   "source": [
    "from sklearn.feature_extraction.text import CountVectorizer\n",
    "matrix = CountVectorizer(analyzer='word',max_features=1000,ngram_range=(1, 3))\n",
    "X = matrix.fit_transform(text).toarray()\n",
    "X"
   ]
  },
  {
   "cell_type": "code",
   "execution_count": 16,
   "metadata": {},
   "outputs": [],
   "source": [
    "unique_label = list(set(label))\n",
    "Y= []\n",
    "for i in label:\n",
    "    Y.append(unique_label.index(i))"
   ]
  },
  {
   "cell_type": "code",
   "execution_count": 17,
   "metadata": {},
   "outputs": [],
   "source": [
    "from sklearn.model_selection import train_test_split\n",
    "X_train, X_test, y_train, y_test = train_test_split(X, Y,test_size=0.2)"
   ]
  },
  {
   "cell_type": "code",
   "execution_count": 18,
   "metadata": {},
   "outputs": [
    {
     "data": {
      "text/plain": [
       "0.6220666535200158"
      ]
     },
     "execution_count": 18,
     "metadata": {},
     "output_type": "execute_result"
    }
   ],
   "source": [
    "# Naive Bayes \n",
    "from sklearn.naive_bayes import GaussianNB\n",
    "classifier = GaussianNB()\n",
    "classifier.fit(X_train, y_train)\n",
    "\n",
    "# Predict Class\n",
    "y_pred = classifier.predict(X_test)\n",
    "\n",
    "# Accuracy \n",
    "from sklearn.metrics import accuracy_score\n",
    "accuracy = accuracy_score(y_test, y_pred)\n",
    "\n",
    "accuracy"
   ]
  },
  {
   "cell_type": "code",
   "execution_count": 19,
   "metadata": {},
   "outputs": [
    {
     "name": "stdout",
     "output_type": "stream",
     "text": [
      "              precision    recall  f1-score   support\n",
      "\n",
      "        ስፖርት       0.82      0.39      0.53      4154\n",
      "        መዝናኛ       0.37      0.72      0.49       762\n",
      "  ሀገር አቀፍ ዜና       0.00      0.00      0.00         0\n",
      "        ቢዝነስ       0.44      0.90      0.59      1334\n",
      "  ዓለም አቀፍ ዜና       0.96      0.94      0.95      1934\n",
      "        ፖለቲካ       0.59      0.55      0.57      1808\n",
      "         nan       0.35      0.78      0.48       150\n",
      "\n",
      "    accuracy                           0.62     10142\n",
      "   macro avg       0.50      0.61      0.52     10142\n",
      "weighted avg       0.72      0.62      0.62     10142\n",
      "\n"
     ]
    },
    {
     "name": "stderr",
     "output_type": "stream",
     "text": [
      "/home/israel/anaconda3/envs/py3.6/lib/python3.6/site-packages/sklearn/metrics/_classification.py:1245: UndefinedMetricWarning: Recall and F-score are ill-defined and being set to 0.0 in labels with no true samples. Use `zero_division` parameter to control this behavior.\n",
      "  _warn_prf(average, modifier, msg_start, len(result))\n",
      "/home/israel/anaconda3/envs/py3.6/lib/python3.6/site-packages/sklearn/metrics/_classification.py:1245: UndefinedMetricWarning: Recall and F-score are ill-defined and being set to 0.0 in labels with no true samples. Use `zero_division` parameter to control this behavior.\n",
      "  _warn_prf(average, modifier, msg_start, len(result))\n",
      "/home/israel/anaconda3/envs/py3.6/lib/python3.6/site-packages/sklearn/metrics/_classification.py:1245: UndefinedMetricWarning: Recall and F-score are ill-defined and being set to 0.0 in labels with no true samples. Use `zero_division` parameter to control this behavior.\n",
      "  _warn_prf(average, modifier, msg_start, len(result))\n"
     ]
    }
   ],
   "source": [
    "from sklearn.metrics import classification_report\n",
    "print(classification_report(y_test, y_pred, target_names=['ስፖርት', 'መዝናኛ', 'ሀገር አቀፍ ዜና', 'ቢዝነስ', 'ዓለም አቀፍ ዜና', 'ፖለቲካ', 'nan']))"
   ]
  },
  {
   "cell_type": "markdown",
   "metadata": {},
   "source": [
    "# Naive Bays - tf -df"
   ]
  },
  {
   "cell_type": "code",
   "execution_count": 20,
   "metadata": {},
   "outputs": [
    {
     "data": {
      "text/plain": [
       "array([[0.        , 0.        , 0.        , ..., 0.        , 0.        ,\n",
       "        0.        ],\n",
       "       [0.        , 0.        , 0.        , ..., 0.        , 0.        ,\n",
       "        0.        ],\n",
       "       [0.06538107, 0.        , 0.        , ..., 0.        , 0.        ,\n",
       "        0.33719558],\n",
       "       ...,\n",
       "       [0.        , 0.        , 0.        , ..., 0.        , 0.        ,\n",
       "        0.        ],\n",
       "       [0.        , 0.        , 0.        , ..., 0.        , 0.        ,\n",
       "        0.        ],\n",
       "       [0.        , 0.        , 0.        , ..., 0.        , 0.        ,\n",
       "        0.        ]])"
      ]
     },
     "execution_count": 20,
     "metadata": {},
     "output_type": "execute_result"
    }
   ],
   "source": [
    "from sklearn.feature_extraction.text import TfidfVectorizer\n",
    "matrix = TfidfVectorizer(analyzer='word',max_features=1000,ngram_range=(1, 3))\n",
    "X = matrix.fit_transform(text).toarray()\n",
    "X"
   ]
  },
  {
   "cell_type": "code",
   "execution_count": 21,
   "metadata": {},
   "outputs": [],
   "source": [
    "from sklearn.model_selection import train_test_split\n",
    "X_train, X_test, y_train, y_test = train_test_split(X, Y,test_size=0.2)"
   ]
  },
  {
   "cell_type": "code",
   "execution_count": 22,
   "metadata": {},
   "outputs": [
    {
     "data": {
      "text/plain": [
       "0.6230526523368172"
      ]
     },
     "execution_count": 22,
     "metadata": {},
     "output_type": "execute_result"
    }
   ],
   "source": [
    "# Naive Bayes \n",
    "from sklearn.naive_bayes import GaussianNB\n",
    "classifier = GaussianNB()\n",
    "classifier.fit(X_train, y_train)\n",
    "\n",
    "# Predict Class\n",
    "y_pred = classifier.predict(X_test)\n",
    "\n",
    "# Accuracy \n",
    "from sklearn.metrics import accuracy_score\n",
    "accuracy = accuracy_score(y_test, y_pred)\n",
    "\n",
    "accuracy"
   ]
  },
  {
   "cell_type": "code",
   "execution_count": 23,
   "metadata": {},
   "outputs": [
    {
     "name": "stdout",
     "output_type": "stream",
     "text": [
      "              precision    recall  f1-score   support\n",
      "\n",
      "        ስፖርት       0.89      0.34      0.50      4106\n",
      "        መዝናኛ       0.32      0.82      0.46       754\n",
      "  ሀገር አቀፍ ዜና       0.00      0.00      0.00         1\n",
      "        ቢዝነስ       0.62      0.78      0.69      1309\n",
      "  ዓለም አቀፍ ዜና       0.98      0.95      0.97      1986\n",
      "        ፖለቲካ       0.49      0.69      0.57      1875\n",
      "         nan       0.23      0.87      0.36       111\n",
      "\n",
      "    accuracy                           0.62     10142\n",
      "   macro avg       0.50      0.64      0.51     10142\n",
      "weighted avg       0.75      0.62      0.62     10142\n",
      "\n"
     ]
    },
    {
     "name": "stderr",
     "output_type": "stream",
     "text": [
      "/home/israel/anaconda3/envs/py3.6/lib/python3.6/site-packages/sklearn/metrics/_classification.py:1245: UndefinedMetricWarning: Precision and F-score are ill-defined and being set to 0.0 in labels with no predicted samples. Use `zero_division` parameter to control this behavior.\n",
      "  _warn_prf(average, modifier, msg_start, len(result))\n",
      "/home/israel/anaconda3/envs/py3.6/lib/python3.6/site-packages/sklearn/metrics/_classification.py:1245: UndefinedMetricWarning: Precision and F-score are ill-defined and being set to 0.0 in labels with no predicted samples. Use `zero_division` parameter to control this behavior.\n",
      "  _warn_prf(average, modifier, msg_start, len(result))\n",
      "/home/israel/anaconda3/envs/py3.6/lib/python3.6/site-packages/sklearn/metrics/_classification.py:1245: UndefinedMetricWarning: Precision and F-score are ill-defined and being set to 0.0 in labels with no predicted samples. Use `zero_division` parameter to control this behavior.\n",
      "  _warn_prf(average, modifier, msg_start, len(result))\n"
     ]
    }
   ],
   "source": [
    "from sklearn.metrics import classification_report\n",
    "print(classification_report(y_test, y_pred, target_names=['ስፖርት', 'መዝናኛ', 'ሀገር አቀፍ ዜና', 'ቢዝነስ', 'ዓለም አቀፍ ዜና', 'ፖለቲካ', 'nan']))"
   ]
  }
 ],
 "metadata": {
  "kernelspec": {
   "display_name": "Python 3",
   "language": "python",
   "name": "python3"
  },
  "language_info": {
   "codemirror_mode": {
    "name": "ipython",
    "version": 3
   },
   "file_extension": ".py",
   "mimetype": "text/x-python",
   "name": "python",
   "nbconvert_exporter": "python",
   "pygments_lexer": "ipython3",
   "version": "3.6.13"
  }
 },
 "nbformat": 4,
 "nbformat_minor": 4
}
